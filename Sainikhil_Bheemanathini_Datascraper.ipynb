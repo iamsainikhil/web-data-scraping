{
 "cells": [
  {
   "cell_type": "code",
   "execution_count": 2,
   "metadata": {
    "collapsed": true
   },
   "outputs": [],
   "source": [
    "from bs4 import BeautifulSoup"
   ]
  },
  {
   "cell_type": "code",
   "execution_count": 3,
   "metadata": {
    "collapsed": true
   },
   "outputs": [],
   "source": [
    "import requests"
   ]
  },
  {
   "cell_type": "code",
   "execution_count": 4,
   "metadata": {
    "collapsed": true
   },
   "outputs": [],
   "source": [
    "#In the above cells, I imported BeautifulSoup and requests which are useful in retreiving url's."
   ]
  },
  {
   "cell_type": "code",
   "execution_count": 5,
   "metadata": {
    "collapsed": true
   },
   "outputs": [],
   "source": [
    "url=\"https://www.symantec.com/security_response/landing/vulnerabilities.jsp\""
   ]
  },
  {
   "cell_type": "code",
   "execution_count": 6,
   "metadata": {
    "collapsed": true
   },
   "outputs": [],
   "source": [
    "#The above url is the main source url for this assignment."
   ]
  },
  {
   "cell_type": "code",
   "execution_count": 7,
   "metadata": {
    "collapsed": true
   },
   "outputs": [],
   "source": [
    "response = requests.get(url)\n",
    "content = response.content"
   ]
  },
  {
   "cell_type": "code",
   "execution_count": 8,
   "metadata": {
    "collapsed": false
   },
   "outputs": [],
   "source": [
    "soup = BeautifulSoup(content, \"lxml\")"
   ]
  },
  {
   "cell_type": "code",
   "execution_count": 9,
   "metadata": {
    "collapsed": true
   },
   "outputs": [],
   "source": [
    "#I retreived the entire url data into soup (variable)."
   ]
  },
  {
   "cell_type": "code",
   "execution_count": 10,
   "metadata": {
    "collapsed": false
   },
   "outputs": [],
   "source": [
    "tables = soup.find(\"div\", {'class':'bckSolidWht bckPadLarge clearfix'}).find_all('table')"
   ]
  },
  {
   "cell_type": "code",
   "execution_count": 11,
   "metadata": {
    "collapsed": true
   },
   "outputs": [],
   "source": [
    "#In this assignment, I am interested in tables."
   ]
  },
  {
   "cell_type": "code",
   "execution_count": 12,
   "metadata": {
    "collapsed": true
   },
   "outputs": [],
   "source": [
    "#I need to retreive data from table-1 from several tables on the url."
   ]
  },
  {
   "cell_type": "code",
   "execution_count": 13,
   "metadata": {
    "collapsed": true
   },
   "outputs": [],
   "source": [
    "#In particular, I am interested in tr (rows)."
   ]
  },
  {
   "cell_type": "code",
   "execution_count": 14,
   "metadata": {
    "collapsed": false,
    "scrolled": true
   },
   "outputs": [
    {
     "data": {
      "text/plain": [
       "<tr class=\"even\">\\n<td class=\"smallTdPadding\"><img alt=\"4\" src=\"/images/version-3/level4.png\" title=\"4\"/></td><td><a href=\"/security_response/vulnerability.jsp?bid=94042\" title=\"Microsoft Edge CVE-2016-7202 Scripting Engine Remote Memory Corruption Vulnerability\">Microsoft Edge CVE-2016-7202 Scripting Engine Remote Memory Corruption Vulnerabi...</a></td><td>11/08/2016</td>\\n</tr>"
      ]
     },
     "execution_count": 14,
     "metadata": {},
     "output_type": "execute_result"
    }
   ],
   "source": [
    "tables[0].findAll('tr')[50]"
   ]
  },
  {
   "cell_type": "code",
   "execution_count": 15,
   "metadata": {
    "collapsed": false
   },
   "outputs": [
    {
     "data": {
      "text/plain": [
       "3170"
      ]
     },
     "execution_count": 15,
     "metadata": {},
     "output_type": "execute_result"
    }
   ],
   "source": [
    "len(tables[0].findAll('tr'))"
   ]
  },
  {
   "cell_type": "code",
   "execution_count": 16,
   "metadata": {
    "collapsed": false
   },
   "outputs": [],
   "source": [
    "rows = tables[0].findAll('tr')\n",
    "severity_value = []\n",
    "vul_value = []\n",
    "date_value = []\n",
    "for tr in rows:\n",
    "    if \"Discovered\" not in tr(text=True):\n",
    "        severity = tr.find('img')['title']\n",
    "        severity_value.append(severity)\n",
    "        \n",
    "        \n",
    "        vul_ = tr.find('a')(text=True)[0]\n",
    "        vul = str(vul_.replace(\"u'\",\" \"))\n",
    "        vul_value.append(vul)\n",
    "        \n",
    "        td = tr.findAll('td')[2]\n",
    "        date_ = td.find(text=True)\n",
    "        date = str(date_.replace(\"u'\",\" \"))\n",
    "        date_value.append(date)\n",
    "        \n",
    "       \n",
    "    \n"
   ]
  },
  {
   "cell_type": "code",
   "execution_count": null,
   "metadata": {
    "collapsed": true
   },
   "outputs": [],
   "source": [
    "#In the above the cell, I want to extract data from each column except table headings."
   ]
  },
  {
   "cell_type": "code",
   "execution_count": 17,
   "metadata": {
    "collapsed": false
   },
   "outputs": [
    {
     "name": "stdout",
     "output_type": "stream",
     "text": [
      "Enter the severity level equal to or above: 4\n"
     ]
    }
   ],
   "source": [
    "user_severity = int(input(\"Enter the severity level equal to or above: \"))\n",
    "for index in range(len(vul_value)):\n",
    "    if int(severity_value[index]) > user_severity - 1:\n",
    "        if (vul_value[index].count('')) > 0:\n",
    "            #print...I don't want to include the result in final html.\n",
    "            (vul_value[index])   \n",
    "       "
   ]
  },
  {
   "cell_type": "code",
   "execution_count": 18,
   "metadata": {
    "collapsed": true
   },
   "outputs": [],
   "source": [
    "#Goal is to extract vulnerabilities from the table equal to or above the mentioned severity level input."
   ]
  },
  {
   "cell_type": "code",
   "execution_count": 19,
   "metadata": {
    "collapsed": true
   },
   "outputs": [],
   "source": [
    "from datetime import datetime"
   ]
  },
  {
   "cell_type": "code",
   "execution_count": 20,
   "metadata": {
    "collapsed": true
   },
   "outputs": [],
   "source": [
    "#The above cell is very important in this assignment.\n",
    "# Where we convert date_value strings to datetime objects."
   ]
  },
  {
   "cell_type": "code",
   "execution_count": 21,
   "metadata": {
    "collapsed": false,
    "scrolled": true
   },
   "outputs": [
    {
     "name": "stdout",
     "output_type": "stream",
     "text": [
      "Enter the severity level equal to or above: 4\n",
      "Enter start date: format - 2015/8/15:  2015/8/30\n",
      "Enter end date: format - 2016/5/13: 2016/5/27\n",
      "Type the word or phrase you look for:Adobe\n",
      "Adobe Flash Player and AIR CVE-2015-8651 Unspecified Integer Overflow Vulnerabil...\n",
      "Adobe Flash Player and AIR APSB15-32 Multiple Unspecified Memory Corruption Vuln...\n",
      "Adobe Flash Player CVE-2015-7645 Remote Code Execution Vulnerability\n",
      "Adobe Flash Player and AIR APSB15-28 Multiple Use After Free Remote Code Executi...\n",
      "Adobe Flash Player and AIR APSB15-25 Multiple Unspecified Memory Corruption Vuln...\n",
      "Adobe Flash Player and AIR CVE-2015-7632 Buffer Overflow Vulnerability\n",
      "Adobe Flash Player and AIR APSB15-25 Multiple Use After Free Remote Code Executi...\n",
      "Microsoft Windows Adobe Font Driver CVE-2015-2512 Local Privilege Escalation Vul...\n",
      "Microsoft Windows Adobe Font Driver CVE-2015-2508 Local Privilege Escalation Vul...\n",
      "Microsoft Windows Adobe Font Driver CVE-2015-2507 Local Privilege Escalation Vul...\n"
     ]
    }
   ],
   "source": [
    "user_severity = int(input(\"Enter the severity level equal to or above: \"))\n",
    "date_start = raw_input(\"Enter start date: format - 2015/8/15:  \")\n",
    "date_end = raw_input(\"Enter end date: format - 2016/5/13: \")\n",
    "w = raw_input(\"Type the word or phrase you look for:\")\n",
    "a = datetime.strptime(str(date_start),\"%Y/%m/%d\")\n",
    "z = datetime.strptime(str(date_end), \"%Y/%m/%d\")\n",
    "for i in range(len(vul_value)):\n",
    "    data = datetime.strptime(date_value[i], \"%m/%d/%Y\")\n",
    "    if int(severity_value[index]) > user_severity - 1:\n",
    "        if (data > a) & (data < z) :\n",
    "            if (vul_value[i].count(w)) > 0:\n",
    "                print(vul_value[i])\n",
    "            \n"
   ]
  },
  {
   "cell_type": "code",
   "execution_count": 22,
   "metadata": {
    "collapsed": true
   },
   "outputs": [],
   "source": [
    "#The above cell sums up the first requirement of the assignment.\n",
    "# User gives the severity level, start date, end date, and their interested search term. \n",
    "#Based on the above conditions, related vulnerabilities should be listed out."
   ]
  },
  {
   "cell_type": "code",
   "execution_count": 23,
   "metadata": {
    "collapsed": false
   },
   "outputs": [],
   "source": [
    "rows = tables[0].findAll('tr')\n",
    "url_values = []\n",
    "vul_value = []\n",
    "date_value = []\n",
    "for tr in rows:\n",
    "    if \"Discovered\" not in tr(text=True):\n",
    "        td = tr.findAll('td')[2]\n",
    "        date_ = td.find(text=True)\n",
    "        date = str(date_.replace(\"u'\",\" \"))\n",
    "        date_value.append(date)\n",
    "        \n",
    "        a_tag = tr.find('a')\n",
    "        vul = a_tag(text=True)[0]\n",
    "        vul = str(vul.replace(\"u'\",\" \"))\n",
    "        vul_value.append(vul)\n",
    "        \n",
    "        url_values.append(\"https://www.symantec.com/\" + a_tag['href'])"
   ]
  },
  {
   "cell_type": "code",
   "execution_count": 24,
   "metadata": {
    "collapsed": true
   },
   "outputs": [],
   "source": [
    "#In the above cell, I wrote a loop to extract individual url's from table-1 under vulnerabilities column."
   ]
  },
  {
   "cell_type": "code",
   "execution_count": 25,
   "metadata": {
    "collapsed": true
   },
   "outputs": [],
   "source": [
    "for index in range(5):\n",
    "    response = requests.get(url_values[index])\n",
    "    content = response.content\n",
    "    soup = BeautifulSoup(content, \"lxml\")\n",
    "    desc = soup.find(\"div\", {'class':'bckSolidWht bckPadLG'})"
   ]
  },
  {
   "cell_type": "code",
   "execution_count": 26,
   "metadata": {
    "collapsed": true
   },
   "outputs": [],
   "source": [
    "desc_ = desc.find('h3', text=\"Description\").parent(text=True)"
   ]
  },
  {
   "cell_type": "code",
   "execution_count": 27,
   "metadata": {
    "collapsed": false,
    "scrolled": true
   },
   "outputs": [
    {
     "name": "stdout",
     "output_type": "stream",
     "text": [
      " Microsoft Identity Model Extensions is prone to a privilege-escalation vulnerability.                   \n",
      "                               \n",
      "An attacker can exploit this issue to gain elevated privileges.\n",
      " \n"
     ]
    }
   ],
   "source": [
    "print(desc_[2])"
   ]
  },
  {
   "cell_type": "code",
   "execution_count": 28,
   "metadata": {
    "collapsed": true
   },
   "outputs": [],
   "source": [
    "#In the above three cells, I tried to extract description under <h3> and <div>.\n",
    "#There were two to three sentences in the description, but I am interested in only first sentence."
   ]
  },
  {
   "cell_type": "code",
   "execution_count": 29,
   "metadata": {
    "collapsed": true
   },
   "outputs": [],
   "source": [
    " import re\n",
    "desc_line = soup.find(\"div\",{'class':'fontXLG'}).findAll('div')[-1]\n",
    "for child in desc_line.stripped_strings:\n",
    "    child = re.sub('\\Description$', '', child.rsplit('\\n',1)[0])\n",
    "    child = re.sub(' +',' ',child).rstrip(' ')\n",
    "        "
   ]
  },
  {
   "cell_type": "code",
   "execution_count": 30,
   "metadata": {
    "collapsed": true
   },
   "outputs": [],
   "source": [
    "#So, I used regular expression to  extract the first sentence from description (desc_line)."
   ]
  },
  {
   "cell_type": "code",
   "execution_count": 31,
   "metadata": {
    "collapsed": false,
    "scrolled": true
   },
   "outputs": [
    {
     "name": "stdout",
     "output_type": "stream",
     "text": [
      "Microsoft Identity Model Extensions is prone to a privilege-escalation vulnerability. \n",
      "\n"
     ]
    }
   ],
   "source": [
    "print(child)"
   ]
  },
  {
   "cell_type": "code",
   "execution_count": 33,
   "metadata": {
    "collapsed": true
   },
   "outputs": [],
   "source": [
    "#This cell sums up the second requirement of the assignment.\n",
    "#In the above cell, strftime was used to convert datetime object to specified string literals.\n",
    "# line1, line2, and count concept was used to fulfill the assignment criteria output."
   ]
  },
  {
   "cell_type": "code",
   "execution_count": 34,
   "metadata": {
    "collapsed": false,
    "scrolled": true
   },
   "outputs": [
    {
     "name": "stdout",
     "output_type": "stream",
     "text": [
      "enter term: denial-of-service\n",
      "\n",
      "Found Vulnerability Number 1 in row 6\t < Tuesday 10. January 2017 >\n",
      "Microsoft Windows LSASS is prone to a denial-of-service vulnerability. \n",
      "https://www.symantec.com//security_response/vulnerability.jsp?bid=95318\n",
      "\n",
      "Found Vulnerability Number 2 in row 86\t < Tuesday 08. November 2016 >\n",
      "Microsoft Windows is prone to a denial-of-service vulnerability. \n",
      "https://www.symantec.com//security_response/vulnerability.jsp?bid=94040\n"
     ]
    }
   ],
   "source": [
    "import re\n",
    "count = 1\n",
    "k = raw_input(\"enter term: \")\n",
    "for index in xrange(100):\n",
    "    url = url_values[index]\n",
    "    response = requests.get(url)\n",
    "    content = response.content\n",
    "    soup = BeautifulSoup(content,'lxml')\n",
    "    desc_line = soup.find(\"div\",{'class':'fontXLG'}).findAll('div')[-1]\n",
    "    for child in desc_line.stripped_strings:\n",
    "        child = re.sub('\\Description$', '', child.rsplit('\\n',1)[0])\n",
    "        child = re.sub(' +',' ',child).rstrip(' ')\n",
    "    \n",
    "    if (child.count(str(k)) > 0):\n",
    "            date = datetime.strptime(date_value[index], '%m/%d/%Y').strftime('%A %d. %B %Y')\n",
    "            line1 = \"\\nFound Vulnerability Number \" + str(count) + \" in row \" + str(index+1) + \"\\t < \" + date + \" >\"\n",
    "            line2 = child + url_values[index]\n",
    "            print(line1)\n",
    "            print(line2)\n",
    "            count += 1"
   ]
  },
  {
   "cell_type": "code",
   "execution_count": null,
   "metadata": {
    "collapsed": true
   },
   "outputs": [],
   "source": [
    "#Testing Purpose. The term was mentioned in the assignment."
   ]
  },
  {
   "cell_type": "code",
   "execution_count": 74,
   "metadata": {
    "collapsed": false
   },
   "outputs": [
    {
     "name": "stdout",
     "output_type": "stream",
     "text": [
      "enter term: Windows\n",
      "\n",
      "Found Vulnerability Number 1 in row 6\t < Tuesday 10. January 2017 >\n",
      "Microsoft Windows LSASS is prone to a denial-of-service vulnerability. \n",
      "https://www.symantec.com//security_response/vulnerability.jsp?bid=95318\n",
      "\n",
      "Found Vulnerability Number 2 in row 7\t < Tuesday 08. November 2016 >\n",
      "Microsoft Windows is prone to a local privilege-escalation vulnerability that occurs in the Windows kernel. \n",
      "https://www.symantec.com//security_response/vulnerability.jsp?bid=94064\n",
      "\n",
      "Found Vulnerability Number 3 in row 11\t < Tuesday 13. December 2016 >\n",
      "Microsoft Windows is prone to a local information-disclosure vulnerability. \n",
      "https://www.symantec.com//security_response/vulnerability.jsp?bid=94787\n",
      "\n",
      "Found Vulnerability Number 4 in row 12\t < Tuesday 13. December 2016 >\n",
      "Microsoft Windows is prone to a local privilege-escalation vulnerability. \n",
      "https://www.symantec.com//security_response/vulnerability.jsp?bid=94768\n",
      "\n",
      "Found Vulnerability Number 5 in row 13\t < Tuesday 13. December 2016 >\n",
      "Microsoft Windows is prone to a local information-disclosure vulnerability. \n",
      "https://www.symantec.com//security_response/vulnerability.jsp?bid=94764\n",
      "\n",
      "Found Vulnerability Number 6 in row 21\t < Tuesday 13. December 2016 >\n",
      "Microsoft Windows is prone to a local privilege-escalation vulnerability. \n",
      "https://www.symantec.com//security_response/vulnerability.jsp?bid=94771\n",
      "\n",
      "Found Vulnerability Number 7 in row 23\t < Tuesday 13. December 2016 >\n",
      "Microsoft Windows is prone to a local privilege-escalation vulnerability that occurs in the Windows kernel. \n",
      "https://www.symantec.com//security_response/vulnerability.jsp?bid=94785\n",
      "\n",
      "Found Vulnerability Number 8 in row 25\t < Tuesday 13. December 2016 >\n",
      "Microsoft Windows is prone to a remote code-execution vulnerability. \n",
      "https://www.symantec.com//security_response/vulnerability.jsp?bid=94752\n",
      "\n",
      "Found Vulnerability Number 9 in row 26\t < Tuesday 13. December 2016 >\n",
      "Microsoft Windows is prone to a remote code-execution vulnerability. \n",
      "https://www.symantec.com//security_response/vulnerability.jsp?bid=94739\n",
      "\n",
      "Found Vulnerability Number 10 in row 34\t < Tuesday 13. December 2016 >\n",
      "Microsoft Windows is prone to a local information-disclosure vulnerability. \n",
      "https://www.symantec.com//security_response/vulnerability.jsp?bid=94736\n",
      "\n",
      "Found Vulnerability Number 11 in row 35\t < Tuesday 13. December 2016 >\n",
      "Microsoft Windows is prone to a local privilege-escalation vulnerability. \n",
      "https://www.symantec.com//security_response/vulnerability.jsp?bid=94734\n",
      "\n",
      "Found Vulnerability Number 12 in row 40\t < Tuesday 13. December 2016 >\n",
      "Microsoft Windows is prone to a remote code-execution vulnerability. \n",
      "https://www.symantec.com//security_response/vulnerability.jsp?bid=94758\n",
      "\n",
      "Found Vulnerability Number 13 in row 46\t < Tuesday 13. December 2016 >\n",
      "Microsoft Windows is prone to an information-disclosure vulnerability. \n",
      "https://www.symantec.com//security_response/vulnerability.jsp?bid=94755\n",
      "\n",
      "Found Vulnerability Number 14 in row 51\t < Tuesday 08. November 2016 >\n",
      "Microsoft Windows is prone to a local privilege-escalation vulnerability that occurs in the Windows kernel. \n",
      "https://www.symantec.com//security_response/vulnerability.jsp?bid=94063\n",
      "\n",
      "Found Vulnerability Number 15 in row 52\t < Tuesday 08. November 2016 >\n",
      "Microsoft Windows is prone to a local privilege-escalation vulnerability that occurs in the Windows kernel. \n",
      "https://www.symantec.com//security_response/vulnerability.jsp?bid=94000\n",
      "\n",
      "Found Vulnerability Number 16 in row 53\t < Tuesday 08. November 2016 >\n",
      "Microsoft Windows is prone to a remote code-execution vulnerability. \n",
      "https://www.symantec.com//security_response/vulnerability.jsp?bid=94156\n",
      "\n",
      "Found Vulnerability Number 17 in row 54\t < Tuesday 08. November 2016 >\n",
      "Microsoft Windows is prone to a memory-corruption vulnerability. \n",
      "https://www.symantec.com//security_response/vulnerability.jsp?bid=94066\n",
      "\n",
      "Found Vulnerability Number 18 in row 55\t < Tuesday 08. November 2016 >\n",
      "Microsoft Windows is prone to a memory-corruption vulnerability. \n",
      "https://www.symantec.com//security_response/vulnerability.jsp?bid=94033\n",
      "\n",
      "Found Vulnerability Number 19 in row 56\t < Tuesday 08. November 2016 >\n",
      "Microsoft Windows is prone to an information-disclosure vulnerability. \n",
      "https://www.symantec.com//security_response/vulnerability.jsp?bid=94030\n",
      "\n",
      "Found Vulnerability Number 20 in row 74\t < Tuesday 08. November 2016 >\n",
      "Microsoft Windows is prone to a local privilege-escalation vulnerability. \n",
      "https://www.symantec.com//security_response/vulnerability.jsp?bid=94018\n",
      "\n",
      "Found Vulnerability Number 21 in row 75\t < Tuesday 08. November 2016 >\n",
      "Microsoft Windows is prone to a local privilege-escalation vulnerability. \n",
      "https://www.symantec.com//security_response/vulnerability.jsp?bid=94015\n",
      "\n",
      "Found Vulnerability Number 22 in row 79\t < Tuesday 08. November 2016 >\n",
      "Microsoft Windows is prone to a local privilege-escalation vulnerability. \n",
      "https://www.symantec.com//security_response/vulnerability.jsp?bid=94007\n",
      "\n",
      "Found Vulnerability Number 23 in row 84\t < Tuesday 08. November 2016 >\n",
      "Microsoft Windows is prone to a local privilege-escalation vulnerability. \n",
      "https://www.symantec.com//security_response/vulnerability.jsp?bid=94013\n",
      "\n",
      "Found Vulnerability Number 24 in row 85\t < Tuesday 08. November 2016 >\n",
      "Microsoft Windows is prone to a local privilege-escalation vulnerability. \n",
      "https://www.symantec.com//security_response/vulnerability.jsp?bid=94010\n",
      "\n",
      "Found Vulnerability Number 25 in row 86\t < Tuesday 08. November 2016 >\n",
      "Microsoft Windows is prone to a denial-of-service vulnerability. \n",
      "https://www.symantec.com//security_response/vulnerability.jsp?bid=94040\n",
      "\n",
      "Found Vulnerability Number 26 in row 87\t < Tuesday 08. November 2016 >\n",
      "Microsoft Windows is prone to a local information-disclosure vulnerability. \n",
      "https://www.symantec.com//security_response/vulnerability.jsp?bid=94036\n",
      "\n",
      "Found Vulnerability Number 27 in row 88\t < Tuesday 08. November 2016 >\n",
      "Microsoft Windows is prone to a local privilege-escalation vulnerability. \n",
      "https://www.symantec.com//security_response/vulnerability.jsp?bid=94045\n",
      "\n",
      "Found Vulnerability Number 28 in row 89\t < Tuesday 08. November 2016 >\n",
      "Microsoft Windows is prone to a local privilege-escalation vulnerability. \n",
      "https://www.symantec.com//security_response/vulnerability.jsp?bid=94016\n",
      "\n",
      "Found Vulnerability Number 29 in row 90\t < Tuesday 08. November 2016 >\n",
      "Microsoft Windows is prone to a local privilege-escalation vulnerability. \n",
      "https://www.symantec.com//security_response/vulnerability.jsp?bid=94014\n",
      "\n",
      "Found Vulnerability Number 30 in row 91\t < Tuesday 08. November 2016 >\n",
      "Microsoft Windows is prone to a local security-bypass vulnerability. \n",
      "https://www.symantec.com//security_response/vulnerability.jsp?bid=94058\n",
      "\n",
      "Found Vulnerability Number 31 in row 92\t < Tuesday 08. November 2016 >\n",
      "Microsoft Windows is prone to a local privilege-escalation vulnerability. \n",
      "https://www.symantec.com//security_response/vulnerability.jsp?bid=94011\n",
      "\n",
      "Found Vulnerability Number 32 in row 93\t < Tuesday 08. November 2016 >\n",
      "Microsoft Windows is prone to a local privilege-escalation vulnerability. \n",
      "https://www.symantec.com//security_response/vulnerability.jsp?bid=94048\n",
      "\n",
      "Found Vulnerability Number 33 in row 94\t < Tuesday 08. November 2016 >\n",
      "Microsoft Windows is prone to a local privilege-escalation vulnerability. \n",
      "https://www.symantec.com//security_response/vulnerability.jsp?bid=94003\n",
      "\n",
      "Found Vulnerability Number 34 in row 95\t < Tuesday 08. November 2016 >\n",
      "Microsoft Windows is prone to a local privilege-escalation vulnerability. \n",
      "https://www.symantec.com//security_response/vulnerability.jsp?bid=94017\n",
      "\n",
      "Found Vulnerability Number 35 in row 96\t < Tuesday 08. November 2016 >\n",
      "Microsoft Windows is prone to a remote code-execution vulnerability. \n",
      "https://www.symantec.com//security_response/vulnerability.jsp?bid=94028\n",
      "\n",
      "Found Vulnerability Number 36 in row 97\t < Tuesday 08. November 2016 >\n",
      "Microsoft Windows is prone to a local privilege-escalation vulnerability. \n",
      "https://www.symantec.com//security_response/vulnerability.jsp?bid=94012\n",
      "\n",
      "Found Vulnerability Number 37 in row 98\t < Tuesday 08. November 2016 >\n",
      "Microsoft Windows is prone to a local privilege-escalation vulnerability. \n",
      "https://www.symantec.com//security_response/vulnerability.jsp?bid=94009\n",
      "\n",
      "Found Vulnerability Number 38 in row 99\t < Tuesday 08. November 2016 >\n",
      "Microsoft Windows is prone to a local privilege-escalation vulnerability. \n",
      "https://www.symantec.com//security_response/vulnerability.jsp?bid=94021\n",
      "\n",
      "Found Vulnerability Number 39 in row 100\t < Tuesday 08. November 2016 >\n",
      "Microsoft Windows is prone to a local privilege-escalation vulnerability. \n",
      "https://www.symantec.com//security_response/vulnerability.jsp?bid=94008\n"
     ]
    }
   ],
   "source": [
    "import re\n",
    "count = 1\n",
    "k = raw_input(\"enter term: \")\n",
    "for index in xrange(100):\n",
    "    url = url_values[index]\n",
    "    response = requests.get(url)\n",
    "    content = response.content\n",
    "    soup = BeautifulSoup(content,'lxml')\n",
    "    desc_line = soup.find(\"div\",{'class':'fontXLG'}).findAll('div')[-1]\n",
    "    for child in desc_line.stripped_strings:\n",
    "        child = re.sub('\\Description$', '', child.rsplit('\\n',1)[0])\n",
    "        child = re.sub(' +',' ',child).rstrip(' ')\n",
    "    \n",
    "    if (child.count(str(k)) > 0):\n",
    "            date = datetime.strptime(date_value[index], '%m/%d/%Y').strftime('%A %d. %B %Y')\n",
    "            line1 = \"\\nFound Vulnerability Number \" + str(count) + \" in row \" + str(index+1) + \"\\t < \" + date + \" >\"\n",
    "            line2 = child + url_values[index]\n",
    "            print(line1)\n",
    "            print(line2)\n",
    "            count += 1"
   ]
  },
  {
   "cell_type": "code",
   "execution_count": null,
   "metadata": {
    "collapsed": true
   },
   "outputs": [],
   "source": [
    "#Testing Purpose"
   ]
  }
 ],
 "metadata": {
  "anaconda-cloud": {},
  "kernelspec": {
   "display_name": "Python [default]",
   "language": "python",
   "name": "python2"
  },
  "language_info": {
   "codemirror_mode": {
    "name": "ipython",
    "version": 2
   },
   "file_extension": ".py",
   "mimetype": "text/x-python",
   "name": "python",
   "nbconvert_exporter": "python",
   "pygments_lexer": "ipython2",
   "version": "2.7.12"
  }
 },
 "nbformat": 4,
 "nbformat_minor": 1
}
